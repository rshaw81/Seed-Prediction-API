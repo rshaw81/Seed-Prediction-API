{
 "cells": [
  {
   "cell_type": "markdown",
   "metadata": {},
   "source": [
    "**We are going to create a Random Forest classifier for the dataset Seeds.csv. The dataset contains information to predict the  output variable i.e Seeds type based on the independent variables**"
   ]
  },
  {
   "cell_type": "code",
   "execution_count": 146,
   "metadata": {},
   "outputs": [],
   "source": [
    "#Load Libraries\n",
    "import numpy as np\n",
    "import pandas as pd\n",
    "import matplotlib.pyplot as plt\n",
    "import seaborn as sns\n",
    "from sklearn.model_selection import train_test_split # Import train_test_split function\n",
    "from sklearn import metrics #Import scikit-learn metrics module for accuracy calculation"
   ]
  },
  {
   "cell_type": "code",
   "execution_count": 147,
   "metadata": {},
   "outputs": [
    {
     "data": {
      "text/html": [
       "<div>\n",
       "<style scoped>\n",
       "    .dataframe tbody tr th:only-of-type {\n",
       "        vertical-align: middle;\n",
       "    }\n",
       "\n",
       "    .dataframe tbody tr th {\n",
       "        vertical-align: top;\n",
       "    }\n",
       "\n",
       "    .dataframe thead th {\n",
       "        text-align: right;\n",
       "    }\n",
       "</style>\n",
       "<table border=\"1\" class=\"dataframe\">\n",
       "  <thead>\n",
       "    <tr style=\"text-align: right;\">\n",
       "      <th></th>\n",
       "      <th>Area</th>\n",
       "      <th>Perimeter</th>\n",
       "      <th>Compactness</th>\n",
       "      <th>Kernel.Length</th>\n",
       "      <th>Kernel.Width</th>\n",
       "      <th>Asymmetry.Coeff</th>\n",
       "      <th>Kernel.Groove</th>\n",
       "      <th>Type</th>\n",
       "    </tr>\n",
       "  </thead>\n",
       "  <tbody>\n",
       "    <tr>\n",
       "      <th>0</th>\n",
       "      <td>15.26</td>\n",
       "      <td>14.84</td>\n",
       "      <td>0.8710</td>\n",
       "      <td>5.763</td>\n",
       "      <td>3.312</td>\n",
       "      <td>2.221</td>\n",
       "      <td>5.220</td>\n",
       "      <td>1</td>\n",
       "    </tr>\n",
       "    <tr>\n",
       "      <th>1</th>\n",
       "      <td>14.88</td>\n",
       "      <td>14.57</td>\n",
       "      <td>0.8811</td>\n",
       "      <td>5.554</td>\n",
       "      <td>3.333</td>\n",
       "      <td>1.018</td>\n",
       "      <td>4.956</td>\n",
       "      <td>1</td>\n",
       "    </tr>\n",
       "    <tr>\n",
       "      <th>2</th>\n",
       "      <td>14.29</td>\n",
       "      <td>14.09</td>\n",
       "      <td>0.9050</td>\n",
       "      <td>5.291</td>\n",
       "      <td>3.337</td>\n",
       "      <td>2.699</td>\n",
       "      <td>4.825</td>\n",
       "      <td>1</td>\n",
       "    </tr>\n",
       "    <tr>\n",
       "      <th>3</th>\n",
       "      <td>13.84</td>\n",
       "      <td>13.94</td>\n",
       "      <td>0.8955</td>\n",
       "      <td>5.324</td>\n",
       "      <td>3.379</td>\n",
       "      <td>2.259</td>\n",
       "      <td>4.805</td>\n",
       "      <td>1</td>\n",
       "    </tr>\n",
       "    <tr>\n",
       "      <th>4</th>\n",
       "      <td>16.14</td>\n",
       "      <td>14.99</td>\n",
       "      <td>0.9034</td>\n",
       "      <td>5.658</td>\n",
       "      <td>3.562</td>\n",
       "      <td>1.355</td>\n",
       "      <td>5.175</td>\n",
       "      <td>1</td>\n",
       "    </tr>\n",
       "  </tbody>\n",
       "</table>\n",
       "</div>"
      ],
      "text/plain": [
       "    Area  Perimeter  Compactness  Kernel.Length  Kernel.Width  \\\n",
       "0  15.26      14.84       0.8710          5.763         3.312   \n",
       "1  14.88      14.57       0.8811          5.554         3.333   \n",
       "2  14.29      14.09       0.9050          5.291         3.337   \n",
       "3  13.84      13.94       0.8955          5.324         3.379   \n",
       "4  16.14      14.99       0.9034          5.658         3.562   \n",
       "\n",
       "   Asymmetry.Coeff  Kernel.Groove  Type  \n",
       "0            2.221          5.220     1  \n",
       "1            1.018          4.956     1  \n",
       "2            2.699          4.825     1  \n",
       "3            2.259          4.805     1  \n",
       "4            1.355          5.175     1  "
      ]
     },
     "execution_count": 147,
     "metadata": {},
     "output_type": "execute_result"
    }
   ],
   "source": [
    "#Load Dataset\n",
    "df1 = pd.read_csv('./Seeds_AI.csv')\n",
    "df1.head()"
   ]
  },
  {
   "cell_type": "code",
   "execution_count": 148,
   "metadata": {},
   "outputs": [
    {
     "data": {
      "text/plain": [
       "Index(['Area', 'Perimeter', 'Compactness', 'Kernel.Length', 'Kernel.Width',\n",
       "       'Asymmetry.Coeff', 'Kernel.Groove', 'Type'],\n",
       "      dtype='object')"
      ]
     },
     "execution_count": 148,
     "metadata": {},
     "output_type": "execute_result"
    }
   ],
   "source": [
    "#to display the column names in the dataset\n",
    "df1.columns"
   ]
  },
  {
   "cell_type": "code",
   "execution_count": 149,
   "metadata": {},
   "outputs": [
    {
     "data": {
      "text/plain": [
       "array([[15.26  , 14.84  ,  0.871 , ...,  2.221 ,  5.22  ,  1.    ],\n",
       "       [14.88  , 14.57  ,  0.8811, ...,  1.018 ,  4.956 ,  1.    ],\n",
       "       [14.29  , 14.09  ,  0.905 , ...,  2.699 ,  4.825 ,  1.    ],\n",
       "       ...,\n",
       "       [13.2   , 13.66  ,  0.8883, ...,  8.315 ,  5.056 ,  3.    ],\n",
       "       [11.84  , 13.21  ,  0.8521, ...,  3.598 ,  5.044 ,  3.    ],\n",
       "       [12.3   , 13.34  ,  0.8684, ...,  5.637 ,  5.063 ,  3.    ]])"
      ]
     },
     "execution_count": 149,
     "metadata": {},
     "output_type": "execute_result"
    }
   ],
   "source": [
    "#to display the dataset values\n",
    "df1.values"
   ]
  },
  {
   "cell_type": "code",
   "execution_count": 150,
   "metadata": {},
   "outputs": [
    {
     "data": {
      "text/plain": [
       "pandas.core.frame.DataFrame"
      ]
     },
     "execution_count": 150,
     "metadata": {},
     "output_type": "execute_result"
    }
   ],
   "source": [
    "#to display the type of the dataset\n",
    "type(df1) "
   ]
  },
  {
   "cell_type": "code",
   "execution_count": 151,
   "metadata": {},
   "outputs": [
    {
     "data": {
      "text/plain": [
       "array([1, 2, 3], dtype=int64)"
      ]
     },
     "execution_count": 151,
     "metadata": {},
     "output_type": "execute_result"
    }
   ],
   "source": [
    "#Identify number of Classes (i.e. Class)\n",
    "df1.Type.unique()"
   ]
  },
  {
   "cell_type": "code",
   "execution_count": 152,
   "metadata": {},
   "outputs": [
    {
     "data": {
      "text/plain": [
       "(199, 8)"
      ]
     },
     "execution_count": 152,
     "metadata": {},
     "output_type": "execute_result"
    }
   ],
   "source": [
    "# to successfully import (199 records)\n",
    "df1.shape"
   ]
  },
  {
   "cell_type": "code",
   "execution_count": 153,
   "metadata": {},
   "outputs": [
    {
     "name": "stdout",
     "output_type": "stream",
     "text": [
      "Feature Vector Data:\n",
      "0      1\n",
      "1      1\n",
      "2      1\n",
      "3      1\n",
      "4      1\n",
      "      ..\n",
      "194    3\n",
      "195    3\n",
      "196    3\n",
      "197    3\n",
      "198    3\n",
      "Name: Type, Length: 199, dtype: int64\n"
     ]
    }
   ],
   "source": [
    "# To print the variable Class values\n",
    "print(\"Feature Vector Data:\")\n",
    "print(df1.Type)"
   ]
  },
  {
   "cell_type": "code",
   "execution_count": 154,
   "metadata": {},
   "outputs": [
    {
     "data": {
      "text/html": [
       "<div>\n",
       "<style scoped>\n",
       "    .dataframe tbody tr th:only-of-type {\n",
       "        vertical-align: middle;\n",
       "    }\n",
       "\n",
       "    .dataframe tbody tr th {\n",
       "        vertical-align: top;\n",
       "    }\n",
       "\n",
       "    .dataframe thead th {\n",
       "        text-align: right;\n",
       "    }\n",
       "</style>\n",
       "<table border=\"1\" class=\"dataframe\">\n",
       "  <thead>\n",
       "    <tr style=\"text-align: right;\">\n",
       "      <th></th>\n",
       "      <th>Area</th>\n",
       "      <th>Perimeter</th>\n",
       "      <th>Compactness</th>\n",
       "      <th>Kernel.Length</th>\n",
       "      <th>Kernel.Width</th>\n",
       "      <th>Asymmetry.Coeff</th>\n",
       "      <th>Kernel.Groove</th>\n",
       "      <th>Type</th>\n",
       "    </tr>\n",
       "  </thead>\n",
       "  <tbody>\n",
       "    <tr>\n",
       "      <th>0</th>\n",
       "      <td>15.26</td>\n",
       "      <td>14.84</td>\n",
       "      <td>0.8710</td>\n",
       "      <td>5.763</td>\n",
       "      <td>3.312</td>\n",
       "      <td>2.221</td>\n",
       "      <td>5.220</td>\n",
       "      <td>1</td>\n",
       "    </tr>\n",
       "    <tr>\n",
       "      <th>1</th>\n",
       "      <td>14.88</td>\n",
       "      <td>14.57</td>\n",
       "      <td>0.8811</td>\n",
       "      <td>5.554</td>\n",
       "      <td>3.333</td>\n",
       "      <td>1.018</td>\n",
       "      <td>4.956</td>\n",
       "      <td>1</td>\n",
       "    </tr>\n",
       "    <tr>\n",
       "      <th>2</th>\n",
       "      <td>14.29</td>\n",
       "      <td>14.09</td>\n",
       "      <td>0.9050</td>\n",
       "      <td>5.291</td>\n",
       "      <td>3.337</td>\n",
       "      <td>2.699</td>\n",
       "      <td>4.825</td>\n",
       "      <td>1</td>\n",
       "    </tr>\n",
       "    <tr>\n",
       "      <th>3</th>\n",
       "      <td>13.84</td>\n",
       "      <td>13.94</td>\n",
       "      <td>0.8955</td>\n",
       "      <td>5.324</td>\n",
       "      <td>3.379</td>\n",
       "      <td>2.259</td>\n",
       "      <td>4.805</td>\n",
       "      <td>1</td>\n",
       "    </tr>\n",
       "    <tr>\n",
       "      <th>4</th>\n",
       "      <td>16.14</td>\n",
       "      <td>14.99</td>\n",
       "      <td>0.9034</td>\n",
       "      <td>5.658</td>\n",
       "      <td>3.562</td>\n",
       "      <td>1.355</td>\n",
       "      <td>5.175</td>\n",
       "      <td>1</td>\n",
       "    </tr>\n",
       "    <tr>\n",
       "      <th>...</th>\n",
       "      <td>...</td>\n",
       "      <td>...</td>\n",
       "      <td>...</td>\n",
       "      <td>...</td>\n",
       "      <td>...</td>\n",
       "      <td>...</td>\n",
       "      <td>...</td>\n",
       "      <td>...</td>\n",
       "    </tr>\n",
       "    <tr>\n",
       "      <th>194</th>\n",
       "      <td>12.19</td>\n",
       "      <td>13.20</td>\n",
       "      <td>0.8783</td>\n",
       "      <td>5.137</td>\n",
       "      <td>2.981</td>\n",
       "      <td>3.631</td>\n",
       "      <td>4.870</td>\n",
       "      <td>3</td>\n",
       "    </tr>\n",
       "    <tr>\n",
       "      <th>195</th>\n",
       "      <td>11.23</td>\n",
       "      <td>12.88</td>\n",
       "      <td>0.8511</td>\n",
       "      <td>5.140</td>\n",
       "      <td>2.795</td>\n",
       "      <td>4.325</td>\n",
       "      <td>5.003</td>\n",
       "      <td>3</td>\n",
       "    </tr>\n",
       "    <tr>\n",
       "      <th>196</th>\n",
       "      <td>13.20</td>\n",
       "      <td>13.66</td>\n",
       "      <td>0.8883</td>\n",
       "      <td>5.236</td>\n",
       "      <td>3.232</td>\n",
       "      <td>8.315</td>\n",
       "      <td>5.056</td>\n",
       "      <td>3</td>\n",
       "    </tr>\n",
       "    <tr>\n",
       "      <th>197</th>\n",
       "      <td>11.84</td>\n",
       "      <td>13.21</td>\n",
       "      <td>0.8521</td>\n",
       "      <td>5.175</td>\n",
       "      <td>2.836</td>\n",
       "      <td>3.598</td>\n",
       "      <td>5.044</td>\n",
       "      <td>3</td>\n",
       "    </tr>\n",
       "    <tr>\n",
       "      <th>198</th>\n",
       "      <td>12.30</td>\n",
       "      <td>13.34</td>\n",
       "      <td>0.8684</td>\n",
       "      <td>5.243</td>\n",
       "      <td>2.974</td>\n",
       "      <td>5.637</td>\n",
       "      <td>5.063</td>\n",
       "      <td>3</td>\n",
       "    </tr>\n",
       "  </tbody>\n",
       "</table>\n",
       "<p>199 rows × 8 columns</p>\n",
       "</div>"
      ],
      "text/plain": [
       "      Area  Perimeter  Compactness  Kernel.Length  Kernel.Width  \\\n",
       "0    15.26      14.84       0.8710          5.763         3.312   \n",
       "1    14.88      14.57       0.8811          5.554         3.333   \n",
       "2    14.29      14.09       0.9050          5.291         3.337   \n",
       "3    13.84      13.94       0.8955          5.324         3.379   \n",
       "4    16.14      14.99       0.9034          5.658         3.562   \n",
       "..     ...        ...          ...            ...           ...   \n",
       "194  12.19      13.20       0.8783          5.137         2.981   \n",
       "195  11.23      12.88       0.8511          5.140         2.795   \n",
       "196  13.20      13.66       0.8883          5.236         3.232   \n",
       "197  11.84      13.21       0.8521          5.175         2.836   \n",
       "198  12.30      13.34       0.8684          5.243         2.974   \n",
       "\n",
       "     Asymmetry.Coeff  Kernel.Groove  Type  \n",
       "0              2.221          5.220     1  \n",
       "1              1.018          4.956     1  \n",
       "2              2.699          4.825     1  \n",
       "3              2.259          4.805     1  \n",
       "4              1.355          5.175     1  \n",
       "..               ...            ...   ...  \n",
       "194            3.631          4.870     3  \n",
       "195            4.325          5.003     3  \n",
       "196            8.315          5.056     3  \n",
       "197            3.598          5.044     3  \n",
       "198            5.637          5.063     3  \n",
       "\n",
       "[199 rows x 8 columns]"
      ]
     },
     "metadata": {},
     "output_type": "display_data"
    }
   ],
   "source": [
    "#to display all the columns and values in the dataset\n",
    "display(df1)"
   ]
  },
  {
   "cell_type": "markdown",
   "metadata": {},
   "source": [
    "**EDA : Exploratory Data Analysis**"
   ]
  },
  {
   "cell_type": "code",
   "execution_count": 155,
   "metadata": {},
   "outputs": [
    {
     "data": {
      "text/html": [
       "<div>\n",
       "<style scoped>\n",
       "    .dataframe tbody tr th:only-of-type {\n",
       "        vertical-align: middle;\n",
       "    }\n",
       "\n",
       "    .dataframe tbody tr th {\n",
       "        vertical-align: top;\n",
       "    }\n",
       "\n",
       "    .dataframe thead th {\n",
       "        text-align: right;\n",
       "    }\n",
       "</style>\n",
       "<table border=\"1\" class=\"dataframe\">\n",
       "  <thead>\n",
       "    <tr style=\"text-align: right;\">\n",
       "      <th></th>\n",
       "      <th>Area</th>\n",
       "      <th>Perimeter</th>\n",
       "      <th>Compactness</th>\n",
       "      <th>Kernel.Length</th>\n",
       "      <th>Kernel.Width</th>\n",
       "      <th>Asymmetry.Coeff</th>\n",
       "      <th>Kernel.Groove</th>\n",
       "      <th>Type</th>\n",
       "    </tr>\n",
       "  </thead>\n",
       "  <tbody>\n",
       "    <tr>\n",
       "      <th>count</th>\n",
       "      <td>199.000000</td>\n",
       "      <td>199.000000</td>\n",
       "      <td>199.000000</td>\n",
       "      <td>199.000000</td>\n",
       "      <td>199.000000</td>\n",
       "      <td>199.000000</td>\n",
       "      <td>199.000000</td>\n",
       "      <td>199.000000</td>\n",
       "    </tr>\n",
       "    <tr>\n",
       "      <th>mean</th>\n",
       "      <td>14.918744</td>\n",
       "      <td>14.595829</td>\n",
       "      <td>0.870811</td>\n",
       "      <td>5.643151</td>\n",
       "      <td>3.265533</td>\n",
       "      <td>3.699217</td>\n",
       "      <td>5.420653</td>\n",
       "      <td>1.994975</td>\n",
       "    </tr>\n",
       "    <tr>\n",
       "      <th>std</th>\n",
       "      <td>2.919976</td>\n",
       "      <td>1.310445</td>\n",
       "      <td>0.023320</td>\n",
       "      <td>0.443593</td>\n",
       "      <td>0.378322</td>\n",
       "      <td>1.471102</td>\n",
       "      <td>0.492718</td>\n",
       "      <td>0.813382</td>\n",
       "    </tr>\n",
       "    <tr>\n",
       "      <th>min</th>\n",
       "      <td>10.590000</td>\n",
       "      <td>12.410000</td>\n",
       "      <td>0.808100</td>\n",
       "      <td>4.899000</td>\n",
       "      <td>2.630000</td>\n",
       "      <td>0.765100</td>\n",
       "      <td>4.519000</td>\n",
       "      <td>1.000000</td>\n",
       "    </tr>\n",
       "    <tr>\n",
       "      <th>25%</th>\n",
       "      <td>12.330000</td>\n",
       "      <td>13.470000</td>\n",
       "      <td>0.857100</td>\n",
       "      <td>5.267000</td>\n",
       "      <td>2.954500</td>\n",
       "      <td>2.570000</td>\n",
       "      <td>5.046000</td>\n",
       "      <td>1.000000</td>\n",
       "    </tr>\n",
       "    <tr>\n",
       "      <th>50%</th>\n",
       "      <td>14.430000</td>\n",
       "      <td>14.370000</td>\n",
       "      <td>0.873400</td>\n",
       "      <td>5.541000</td>\n",
       "      <td>3.245000</td>\n",
       "      <td>3.631000</td>\n",
       "      <td>5.228000</td>\n",
       "      <td>2.000000</td>\n",
       "    </tr>\n",
       "    <tr>\n",
       "      <th>75%</th>\n",
       "      <td>17.455000</td>\n",
       "      <td>15.805000</td>\n",
       "      <td>0.886800</td>\n",
       "      <td>6.002000</td>\n",
       "      <td>3.564500</td>\n",
       "      <td>4.799000</td>\n",
       "      <td>5.879000</td>\n",
       "      <td>3.000000</td>\n",
       "    </tr>\n",
       "    <tr>\n",
       "      <th>max</th>\n",
       "      <td>21.180000</td>\n",
       "      <td>17.250000</td>\n",
       "      <td>0.918300</td>\n",
       "      <td>6.675000</td>\n",
       "      <td>4.033000</td>\n",
       "      <td>8.315000</td>\n",
       "      <td>6.550000</td>\n",
       "      <td>3.000000</td>\n",
       "    </tr>\n",
       "  </tbody>\n",
       "</table>\n",
       "</div>"
      ],
      "text/plain": [
       "             Area   Perimeter  Compactness  Kernel.Length  Kernel.Width  \\\n",
       "count  199.000000  199.000000   199.000000     199.000000    199.000000   \n",
       "mean    14.918744   14.595829     0.870811       5.643151      3.265533   \n",
       "std      2.919976    1.310445     0.023320       0.443593      0.378322   \n",
       "min     10.590000   12.410000     0.808100       4.899000      2.630000   \n",
       "25%     12.330000   13.470000     0.857100       5.267000      2.954500   \n",
       "50%     14.430000   14.370000     0.873400       5.541000      3.245000   \n",
       "75%     17.455000   15.805000     0.886800       6.002000      3.564500   \n",
       "max     21.180000   17.250000     0.918300       6.675000      4.033000   \n",
       "\n",
       "       Asymmetry.Coeff  Kernel.Groove        Type  \n",
       "count       199.000000     199.000000  199.000000  \n",
       "mean          3.699217       5.420653    1.994975  \n",
       "std           1.471102       0.492718    0.813382  \n",
       "min           0.765100       4.519000    1.000000  \n",
       "25%           2.570000       5.046000    1.000000  \n",
       "50%           3.631000       5.228000    2.000000  \n",
       "75%           4.799000       5.879000    3.000000  \n",
       "max           8.315000       6.550000    3.000000  "
      ]
     },
     "execution_count": 155,
     "metadata": {},
     "output_type": "execute_result"
    }
   ],
   "source": [
    "#to find the key attributes\n",
    "df1.describe()"
   ]
  },
  {
   "cell_type": "code",
   "execution_count": 156,
   "metadata": {},
   "outputs": [
    {
     "data": {
      "text/html": [
       "<div>\n",
       "<style scoped>\n",
       "    .dataframe tbody tr th:only-of-type {\n",
       "        vertical-align: middle;\n",
       "    }\n",
       "\n",
       "    .dataframe tbody tr th {\n",
       "        vertical-align: top;\n",
       "    }\n",
       "\n",
       "    .dataframe thead th {\n",
       "        text-align: right;\n",
       "    }\n",
       "</style>\n",
       "<table border=\"1\" class=\"dataframe\">\n",
       "  <thead>\n",
       "    <tr style=\"text-align: right;\">\n",
       "      <th></th>\n",
       "      <th>Total</th>\n",
       "      <th>Percent</th>\n",
       "    </tr>\n",
       "  </thead>\n",
       "  <tbody>\n",
       "    <tr>\n",
       "      <th>Area</th>\n",
       "      <td>0</td>\n",
       "      <td>0.0</td>\n",
       "    </tr>\n",
       "    <tr>\n",
       "      <th>Perimeter</th>\n",
       "      <td>0</td>\n",
       "      <td>0.0</td>\n",
       "    </tr>\n",
       "    <tr>\n",
       "      <th>Compactness</th>\n",
       "      <td>0</td>\n",
       "      <td>0.0</td>\n",
       "    </tr>\n",
       "    <tr>\n",
       "      <th>Kernel.Length</th>\n",
       "      <td>0</td>\n",
       "      <td>0.0</td>\n",
       "    </tr>\n",
       "    <tr>\n",
       "      <th>Kernel.Width</th>\n",
       "      <td>0</td>\n",
       "      <td>0.0</td>\n",
       "    </tr>\n",
       "    <tr>\n",
       "      <th>Asymmetry.Coeff</th>\n",
       "      <td>0</td>\n",
       "      <td>0.0</td>\n",
       "    </tr>\n",
       "    <tr>\n",
       "      <th>Kernel.Groove</th>\n",
       "      <td>0</td>\n",
       "      <td>0.0</td>\n",
       "    </tr>\n",
       "    <tr>\n",
       "      <th>Type</th>\n",
       "      <td>0</td>\n",
       "      <td>0.0</td>\n",
       "    </tr>\n",
       "  </tbody>\n",
       "</table>\n",
       "</div>"
      ],
      "text/plain": [
       "                 Total  Percent\n",
       "Area                 0      0.0\n",
       "Perimeter            0      0.0\n",
       "Compactness          0      0.0\n",
       "Kernel.Length        0      0.0\n",
       "Kernel.Width         0      0.0\n",
       "Asymmetry.Coeff      0      0.0\n",
       "Kernel.Groove        0      0.0\n",
       "Type                 0      0.0"
      ]
     },
     "execution_count": 156,
     "metadata": {},
     "output_type": "execute_result"
    }
   ],
   "source": [
    "# is there any missing data ?\n",
    "total = df1.isnull().sum().sort_values(ascending=False)\n",
    "percent = (df1.isnull().sum()/df1.isnull().count()).sort_values(ascending=False)\n",
    "missing_data = pd.concat([total, percent], axis=1, keys=['Total', 'Percent'])\n",
    "missing_data.head(199)"
   ]
  },
  {
   "cell_type": "code",
   "execution_count": 157,
   "metadata": {},
   "outputs": [
    {
     "name": "stdout",
     "output_type": "stream",
     "text": [
      "False\n"
     ]
    }
   ],
   "source": [
    "# Any missing values?\n",
    "print(df1.isnull().values.any())"
   ]
  },
  {
   "cell_type": "code",
   "execution_count": 158,
   "metadata": {},
   "outputs": [
    {
     "data": {
      "text/plain": [
       "<AxesSubplot:>"
      ]
     },
     "execution_count": 158,
     "metadata": {},
     "output_type": "execute_result"
    },
    {
     "data": {
      "image/png": "[encoded data removed]",
      "text/plain": [
       "<Figure size 1080x720 with 1 Axes>"
      ]
     },
     "metadata": {
      "needs_background": "light"
     },
     "output_type": "display_data"
    }
   ],
   "source": [
    "#Boxplot Visualization to check outliers\n",
    "plt.figure(figsize=(15,10))\n",
    "sns.boxplot(data=df1)"
   ]
  },
  {
   "cell_type": "code",
   "execution_count": 159,
   "metadata": {},
   "outputs": [
    {
     "data": {
      "text/plain": [
       "<AxesSubplot:>"
      ]
     },
     "execution_count": 159,
     "metadata": {},
     "output_type": "execute_result"
    },
    {
     "data": {
      "image/png": "[encoded data removed]",
      "text/plain": [
       "<Figure size 720x360 with 2 Axes>"
      ]
     },
     "metadata": {
      "needs_background": "light"
     },
     "output_type": "display_data"
    }
   ],
   "source": [
    "#Visualization of Correlations for Seeds dataset\n",
    "fig = plt.figure(figsize=(10,5))\n",
    "sns.heatmap(df1.corr(),annot=True,cmap=\"Blues\")"
   ]
  },
  {
   "cell_type": "markdown",
   "metadata": {},
   "source": [
    "**From the heat map we found out that majority of the input variables are positively correlated than negatively correlated ones.**"
   ]
  },
  {
   "cell_type": "code",
   "execution_count": 160,
   "metadata": {},
   "outputs": [
    {
     "name": "stdout",
     "output_type": "stream",
     "text": [
      "Correlated columns @ 0.8: [('Perimeter', 'Area'), ('Kernel.Length', 'Area'), ('Kernel.Length', 'Perimeter'), ('Kernel.Width', 'Area'), ('Kernel.Width', 'Perimeter'), ('Kernel.Width', 'Kernel.Length'), ('Kernel.Groove', 'Area'), ('Kernel.Groove', 'Perimeter'), ('Kernel.Groove', 'Kernel.Length')]\n"
     ]
    }
   ],
   "source": [
    "#Find Independent Column Correlations for Seeds dataset \n",
    "def correlation(dataset,threshold):\n",
    "    col_corr= [] # List of correlated columns\n",
    "    corr_matrix=dataset.corr() #finding correlation between columns\n",
    "    for i in range (len(corr_matrix.columns)): #Number of columns\n",
    "        for j in range (i):\n",
    "            if abs(corr_matrix.iloc[i,j])>threshold: #checking correlation between columns\n",
    "                colName=(corr_matrix.columns[i], corr_matrix.columns[j]) #getting correlated columns\n",
    "                col_corr.append(colName) #adding correlated column name\n",
    "    return col_corr #returning set of column names\n",
    "col=correlation(df1,0.8)\n",
    "print('Correlated columns @ 0.8:', col)"
   ]
  },
  {
   "cell_type": "markdown",
   "metadata": {},
   "source": [
    "**The above input variables are highly correlated because they have the correlation between them greater than 80%.**"
   ]
  },
  {
   "cell_type": "code",
   "execution_count": 161,
   "metadata": {},
   "outputs": [
    {
     "name": "stderr",
     "output_type": "stream",
     "text": [
      "C:\\Users\\MYPC~1\\AppData\\Local\\Temp/ipykernel_15100/3070951549.py:4: UserWarning: To output multiple subplots, the figure containing the passed axes is being cleared\n",
      "  df1.hist(ax=ax)\n"
     ]
    },
    {
     "data": {
      "image/png": "[encoded data removed]",
      "text/plain": [
       "<Figure size 1080x1080 with 9 Axes>"
      ]
     },
     "metadata": {
      "needs_background": "light"
     },
     "output_type": "display_data"
    }
   ],
   "source": [
    "#Histogram visualizations for the Seeds dataset \n",
    "fig = plt.figure(figsize = (15,15))\n",
    "ax = fig.gca()\n",
    "df1.hist(ax=ax)\n",
    "plt.show()"
   ]
  },
  {
   "cell_type": "markdown",
   "metadata": {},
   "source": [
    "**Feature Selection**"
   ]
  },
  {
   "cell_type": "code",
   "execution_count": 162,
   "metadata": {},
   "outputs": [],
   "source": [
    "#split dataset in features and target variable\n",
    "feature_cols = ['Area', 'Perimeter', 'Compactness', 'Kernel.Length','Kernel.Width','Asymmetry.Coeff','Kernel.Groove']\n",
    "X = df1[feature_cols] # Features\n",
    "y = df1.Type # Target variable"
   ]
  },
  {
   "cell_type": "code",
   "execution_count": 163,
   "metadata": {},
   "outputs": [],
   "source": [
    "# Split dataset into training set and test set\n",
    "X_train, X_test, y_train, y_test = train_test_split(X, y, test_size=0.3, random_state=1) # 70% training and 30% test"
   ]
  },
  {
   "cell_type": "code",
   "execution_count": 164,
   "metadata": {},
   "outputs": [],
   "source": [
    "# Implement Random Forest classifier\n",
    "from sklearn.ensemble import RandomForestClassifier\n",
    "\n",
    "\n",
    "# instantiate the model (using the default parameters)\n",
    "randomforest=RandomForestClassifier()\n",
    "\n",
    "# fit the model with data\n",
    "randomforest.fit(X_train,y_train)\n",
    "\n",
    "#\n",
    "y_pred=randomforest.predict(X_test)"
   ]
  },
  {
   "cell_type": "code",
   "execution_count": 165,
   "metadata": {},
   "outputs": [
    {
     "name": "stdout",
     "output_type": "stream",
     "text": [
      "Accuracy: 0.9333333333333333\n"
     ]
    }
   ],
   "source": [
    "# Model Accuracy, how often is the classifier correct?\n",
    "print(\"Accuracy:\",metrics.accuracy_score(y_test, y_pred))"
   ]
  },
  {
   "cell_type": "markdown",
   "metadata": {},
   "source": [
    "**The accuracy value is 93%. This tells that this model detects the type of the seed correctly about 93%**"
   ]
  },
  {
   "cell_type": "code",
   "execution_count": 166,
   "metadata": {},
   "outputs": [
    {
     "data": {
      "text/plain": [
       "0.9333333333333333"
      ]
     },
     "execution_count": 166,
     "metadata": {},
     "output_type": "execute_result"
    }
   ],
   "source": [
    "#to display the accuracy score. To cross check whether the accuracy score is correct\n",
    "random.score(X_test, y_test)"
   ]
  },
  {
   "cell_type": "code",
   "execution_count": 167,
   "metadata": {},
   "outputs": [
    {
     "name": "stdout",
     "output_type": "stream",
     "text": [
      "Mean Absolute Error: 0.11666666666666667\n",
      "Mean Squared Error: 0.21666666666666667\n",
      "Root Mean Squared Error: 0.4654746681256314\n"
     ]
    }
   ],
   "source": [
    "print('Mean Absolute Error:', metrics.mean_absolute_error(y_test, y_pred))  \n",
    "print('Mean Squared Error:', metrics.mean_squared_error(y_test, y_pred))  \n",
    "print('Root Mean Squared Error:', np.sqrt(metrics.mean_squared_error(y_test, y_pred)))"
   ]
  },
  {
   "cell_type": "markdown",
   "metadata": {},
   "source": [
    "**You can see that the value of root mean squared error is 0.46, which is less than 10% of the mean value of the percentages of the Type. This means that our algorithm was very accurate enough to make reasonably good predictions**"
   ]
  },
  {
   "cell_type": "markdown",
   "metadata": {},
   "source": [
    "**Cross Validation**"
   ]
  },
  {
   "cell_type": "code",
   "execution_count": 168,
   "metadata": {},
   "outputs": [],
   "source": [
    "from sklearn.neighbors import KNeighborsClassifier\n",
    "from sklearn.tree import DecisionTreeClassifier\n",
    "from sklearn.ensemble import RandomForestClassifier\n",
    "from sklearn.model_selection import train_test_split\n",
    "from sklearn.model_selection import cross_val_score\n",
    "from sklearn.model_selection import StratifiedKFold\n",
    "from sklearn.metrics import accuracy_score"
   ]
  },
  {
   "cell_type": "code",
   "execution_count": 169,
   "metadata": {},
   "outputs": [],
   "source": [
    "models = []\n",
    "\n",
    "models.append(('KNN', KNeighborsClassifier()))\n",
    "models.append(('DT',  DecisionTreeClassifier()))\n",
    "models.append(('RF',  RandomForestClassifier(n_estimators=100)))"
   ]
  },
  {
   "cell_type": "code",
   "execution_count": 170,
   "metadata": {},
   "outputs": [],
   "source": [
    "# Train/Test split\n",
    "X_train_cross, X_test_cross, y_train_cross, y_test_cross = train_test_split(X, y, stratify = df1.Type, random_state=0)"
   ]
  },
  {
   "cell_type": "code",
   "execution_count": 171,
   "metadata": {},
   "outputs": [
    {
     "name": "stdout",
     "output_type": "stream",
     "text": [
      "  Name  Score\n",
      "0  KNN   0.94\n",
      "1   DT   0.94\n",
      "2   RF   0.94\n"
     ]
    }
   ],
   "source": [
    "#To display the accuracy value\n",
    "names = []\n",
    "scores = []\n",
    "\n",
    "for name, model in models:\n",
    "    model.fit(X_train_cross, y_train_cross)\n",
    "    y_pred_cross = model.predict(X_test_cross)\n",
    "    scores.append(accuracy_score(y_test_cross, y_pred_cross))\n",
    "    names.append(name)\n",
    "\n",
    "tr_split = pd.DataFrame({'Name': names, 'Score': scores})\n",
    "print(tr_split)"
   ]
  },
  {
   "cell_type": "code",
   "execution_count": 172,
   "metadata": {},
   "outputs": [
    {
     "name": "stdout",
     "output_type": "stream",
     "text": [
      "  Name     Score\n",
      "0  KNN  0.889737\n",
      "1   DT  0.920000\n",
      "2   RF  0.945000\n"
     ]
    }
   ],
   "source": [
    "#To display the accuracy value using cross val\n",
    "strat_k_fold = StratifiedKFold(n_splits=10, shuffle=True, random_state=100)\n",
    "\n",
    "names = []\n",
    "scores = []\n",
    "\n",
    "for name, model in models:\n",
    "    \n",
    "    score = cross_val_score(model, X, y, cv=strat_k_fold, scoring='accuracy').mean()\n",
    "    names.append(name)\n",
    "    scores.append(score)\n",
    "\n",
    "kf_cross_val = pd.DataFrame({'Name': names, 'Score': scores})\n",
    "print(kf_cross_val)"
   ]
  },
  {
   "cell_type": "code",
   "execution_count": 173,
   "metadata": {},
   "outputs": [
    {
     "data": {
      "image/png": "[encoded data removed]",
      "text/plain": [
       "<Figure size 432x288 with 1 Axes>"
      ]
     },
     "metadata": {
      "needs_background": "light"
     },
     "output_type": "display_data"
    }
   ],
   "source": [
    "#To display the accuracy values in terms of Box plot\n",
    "import seaborn as sns\n",
    "import matplotlib.pyplot as plt\n",
    "\n",
    "axis = sns.barplot(x = 'Name', y = 'Score', data = kf_cross_val)\n",
    "axis.set(xlabel='Classifier', ylabel='Accuracy')\n",
    "\n",
    "for p in axis.patches:\n",
    "    height = p.get_height()\n",
    "    axis.text(p.get_x() + p.get_width()/2, height + 0.005, '{:1.4f}'.format(height), ha=\"center\") \n",
    "    \n",
    "plt.show()"
   ]
  },
  {
   "cell_type": "markdown",
   "metadata": {},
   "source": [
    "**The above output shows that RF has the best accuracy among the three models**"
   ]
  },
  {
   "cell_type": "markdown",
   "metadata": {},
   "source": [
    "**Random Forest Classifier is a very powerful model. In this model development we had achieved a accuracy score of 94.5%. But we are not confident enough of the accuracy score obtained in this because dataset doesn't contain enough data values to create a trustable predictor. So, we need to use a dataset of more number of samples to be sure about the accuracy score obtained.**"
   ]
  },
  {
   "cell_type": "code",
   "execution_count": 174,
   "metadata": {},
   "outputs": [],
   "source": [
    "# Create a Pickle file  \n",
    "import pickle\n",
    "pickle_out = open(\"randomforest.pkl\",\"wb\")\n",
    "pickle.dump(randomforest, pickle_out)\n",
    "pickle_out.close()"
   ]
  },
  {
   "cell_type": "code",
   "execution_count": 175,
   "metadata": {},
   "outputs": [
    {
     "data": {
      "text/plain": [
       "array([3], dtype=int64)"
      ]
     },
     "execution_count": 175,
     "metadata": {},
     "output_type": "execute_result"
    }
   ],
   "source": [
    "#Prediction of the seed type\n",
    "randomforest.predict([[12.19,13.20,0.8783,5.137,2.981,3.631,4.870]])"
   ]
  },
  {
   "cell_type": "code",
   "execution_count": null,
   "metadata": {},
   "outputs": [],
   "source": []
  }
 ],
 "metadata": {
  "kernelspec": {
   "display_name": "Python 3 (ipykernel)",
   "language": "python",
   "name": "python3"
  },
  "language_info": {
   "codemirror_mode": {
    "name": "ipython",
    "version": 3
   },
   "file_extension": ".py",
   "mimetype": "text/x-python",
   "name": "python",
   "nbconvert_exporter": "python",
   "pygments_lexer": "ipython3",
   "version": "3.9.7"
  }
 },
 "nbformat": 4,
 "nbformat_minor": 4
}
